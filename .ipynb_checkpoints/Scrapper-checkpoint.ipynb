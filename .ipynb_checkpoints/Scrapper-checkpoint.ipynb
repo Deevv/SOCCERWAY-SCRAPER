{
 "cells": [
  {
   "cell_type": "code",
   "execution_count": 1,
   "metadata": {
    "collapsed": true
   },
   "outputs": [],
   "source": [
    "from lxml import html\n",
    "import requests\n",
    "from bs4 import BeautifulSoup\n",
    "import re\n",
    "import pandas as pd \n",
    "import numpy as np\n",
    "%matplotlib inline\n",
    "pd.options.mode.chained_assignment = None  # default='warn'"
   ]
  },
  {
   "cell_type": "code",
   "execution_count": 2,
   "metadata": {
    "collapsed": true
   },
   "outputs": [],
   "source": [
    "columns = ['Number', 'Player', 'Age', 'Position', 'Mins played', 'Appearances', 'Line Ups', 'Sub In', 'Sub Out', 'Sub On Bench', 'Goals', 'Asists', 'Yellow', 'Yellow 2nd', 'Red', 'Club', 'League', 'Country']"
   ]
  },
  {
   "cell_type": "code",
   "execution_count": 3,
   "metadata": {
    "collapsed": true
   },
   "outputs": [],
   "source": [
    "def createList(url):\n",
    "    page = requests.get(url) #,proxies=proxyDict)\n",
    "    s = re.search('submenu_dropdown(.*)yui-main', str(page.content)).group(1)\n",
    "    soup = BeautifulSoup(s, 'html.parser')\n",
    "    period_tags = soup.find_all(re.compile(\"(option)\")) #, class_=re.compile(\"(number|position|name|shirtnumber)\"))\n",
    "    country = [str(i).split('/')[2] for i in period_tags]\n",
    "    team = [str(i).split('/')[3] for i in period_tags]\n",
    "   \n",
    "    return  [i for i in zip(country, team)]"
   ]
  },
  {
   "cell_type": "code",
   "execution_count": 4,
   "metadata": {
    "collapsed": true,
    "scrolled": true
   },
   "outputs": [],
   "source": [
    "def compute(country, league, team):\n",
    "    page = requests.get('http://int.soccerway.com/teams/'+country+'/'+team+'/squad/') #,proxies=proxyDict)\n",
    "    s = re.search('table squad sortable(.*)Coach', str(page.content)).group(1)\n",
    "    soup = BeautifulSoup(s, 'html.parser')\n",
    "    period_tags = soup.find_all(re.compile(\"(td)\"), class_=re.compile(\"(number|position|name|shirtnumber)\"))\n",
    "    list = [i.get_text() for i in period_tags] # if 'coach' not in str(i)]\n",
    "    #del list[-1:]\n",
    "    A = np.array(list)\n",
    "    B = pd.DataFrame(np.reshape(A, (int(A.size/15), 15)))\n",
    "    B['15'] = team.replace('-', ' ').upper()\n",
    "    B['16'] = league.replace('-', ' ').upper()\n",
    "    B['17'] = country.replace('-', ' ').upper()\n",
    "    return B"
   ]
  },
  {
   "cell_type": "code",
   "execution_count": 5,
   "metadata": {
    "collapsed": true,
    "scrolled": true
   },
   "outputs": [],
   "source": [
    "def concat(clubs, league):\n",
    "    df = compute(clubs[0][0], league, clubs[0][1])\n",
    "    for team in range(1,len(clubs)):\n",
    "        df = pd.concat([df, compute(clubs[team][0], league, clubs[team][1])])\n",
    "    return df"
   ]
  },
  {
   "cell_type": "code",
   "execution_count": 6,
   "metadata": {
    "collapsed": true
   },
   "outputs": [],
   "source": [
    "def type_changer(df):\n",
    "    columns = [2, 4, 5, 6, 7, 8, 9, 10, 11, 12, 13, 14]\n",
    "    for num in columns:\n",
    "        if '' in df[num].unique():\n",
    "            df = df[df[num] != '']\n",
    "        df[num] = df[num].astype(int)\n",
    "    return df"
   ]
  },
  {
   "cell_type": "code",
   "execution_count": 7,
   "metadata": {
    "collapsed": true
   },
   "outputs": [],
   "source": [
    "def column_changer(df):\n",
    "    df.columns = columns\n",
    "    return df"
   ]
  },
  {
   "cell_type": "code",
   "execution_count": 74,
   "metadata": {
    "collapsed": true
   },
   "outputs": [],
   "source": [
    "leagues = [\n",
    "    #('England', 'Premier League', 'southampton-fc'),\n",
    "    #('England', 'Championship', 'leeds-united-afc'), \n",
    "    #('England', 'League One', 'peterborough-united-fc'), \n",
    "    #('England', 'League Two', 'notts-county-fc'), \n",
    "    \n",
    "    #('Germany', 'Bundesliga', 'tsg-1899-hoffenheim-ev'), \n",
    "    #('Germany', 'Bundesliga 2', 'fc-st-pauli-von-1910-ev'), \n",
    "    #('Germany', 'Bundesliga 3', 'sg-sonnenhof-grossaspach'), \n",
    "\n",
    "    #('Italy', 'Serie A' , 'ssc-napoli'),\n",
    "    #('Italy', 'Serie B' , 'as-bari'),\n",
    "    #('Italy', 'Serie C' , 'ac-siena'), # check .unique() result\n",
    "    \n",
    "    #('Spain', 'Primera Division', 'athletic-club'),\n",
    "    #('Spain', 'Segunda Division', 'real-zaragoza'),\n",
    "    #('Spain', 'Segunda Division B', 'real-union-club-de-irun'),\n",
    "    \n",
    "    #('France', 'Ligue 1', 'olympique-de-marseille'),\n",
    "    #('France', 'Ligue 2', 'olympique-de-marseille'),\n",
    "    #('France', 'National', 'association-sportive-lyon-duchere'),\n",
    "    \n",
    "    #('Nederlands', 'Eredivisie', 'afc-ajax'),\n",
    "    #('Nederlands', 'Eerste Divisie', 'fc-eindhoven'),\n",
    "    #('Nederlands', 'Tweede Divisie', 'gelders-veenendaalse-voetbal-vereniging'),\n",
    "    \n",
    "    #('Denmark', 'Superligaen', 'fc-kobenhavn'),\n",
    "    #('Denmark', 'Superligaen', 'fc-roskilde'),\n",
    "    #('Denmark', 'Superligaen', 'boldklubben-af-1893'),\n",
    "    \n",
    "    #('Denmark', 'Superligaen', 'boldklubben-af-1893'),\n",
    "    #('Denmark', 'Superligaen', 'boldklubben-af-1893'),\n",
    "    #('Denmark', 'Superligaen', 'boldklubben-af-1893'),\n",
    "    \n",
    "   \n",
    "          ]"
   ]
  },
  {
   "cell_type": "code",
   "execution_count": 75,
   "metadata": {
    "collapsed": true
   },
   "outputs": [],
   "source": [
    "def create_df(leagues):\n",
    "    df = column_changer(type_changer(concat(createList('http://int.soccerway.com/teams/'+leagues[0][0]+'/'+leagues[0][2]+'/squad/'), leagues[0][1])))\n",
    "    for i in range(1,len(leagues)):\n",
    "        df = pd.concat([df,column_changer(type_changer(concat(createList('http://int.soccerway.com/teams/'+leagues[i][0]+'/'+leagues[i][2]+'/squad/'), leagues[i][1])))])\n",
    "    return df"
   ]
  },
  {
   "cell_type": "code",
   "execution_count": 76,
   "metadata": {},
   "outputs": [],
   "source": [
    "data = create_df(leagues)"
   ]
  },
  {
   "cell_type": "code",
   "execution_count": 77,
   "metadata": {
    "scrolled": true
   },
   "outputs": [
    {
     "name": "stdout",
     "output_type": "stream",
     "text": [
      "<class 'pandas.core.frame.DataFrame'>\n",
      "Int64Index: 1357 entries, 0 to 29\n",
      "Data columns (total 18 columns):\n",
      "Number          1357 non-null object\n",
      "Player          1357 non-null object\n",
      "Age             1357 non-null int64\n",
      "Position        1357 non-null object\n",
      "Mins played     1357 non-null int64\n",
      "Appearances     1357 non-null int64\n",
      "Line Ups        1357 non-null int64\n",
      "Sub In          1357 non-null int64\n",
      "Sub Out         1357 non-null int64\n",
      "Sub On Bench    1357 non-null int64\n",
      "Goals           1357 non-null int64\n",
      "Asists          1357 non-null int64\n",
      "Yellow          1357 non-null int64\n",
      "Yellow 2nd      1357 non-null int64\n",
      "Red             1357 non-null int64\n",
      "Club            1357 non-null object\n",
      "League          1357 non-null object\n",
      "Country         1357 non-null object\n",
      "dtypes: int64(12), object(6)\n",
      "memory usage: 201.4+ KB\n"
     ]
    }
   ],
   "source": [
    "data.info()"
   ]
  },
  {
   "cell_type": "code",
   "execution_count": 78,
   "metadata": {
    "scrolled": true
   },
   "outputs": [
    {
     "data": {
      "text/html": [
       "<div>\n",
       "<table border=\"1\" class=\"dataframe\">\n",
       "  <thead>\n",
       "    <tr style=\"text-align: right;\">\n",
       "      <th></th>\n",
       "      <th>Number</th>\n",
       "      <th>Player</th>\n",
       "      <th>Age</th>\n",
       "      <th>Position</th>\n",
       "      <th>Mins played</th>\n",
       "      <th>Appearances</th>\n",
       "      <th>Line Ups</th>\n",
       "      <th>Sub In</th>\n",
       "      <th>Sub Out</th>\n",
       "      <th>Sub On Bench</th>\n",
       "      <th>Goals</th>\n",
       "      <th>Asists</th>\n",
       "      <th>Yellow</th>\n",
       "      <th>Yellow 2nd</th>\n",
       "      <th>Red</th>\n",
       "      <th>Club</th>\n",
       "      <th>League</th>\n",
       "      <th>Country</th>\n",
       "    </tr>\n",
       "  </thead>\n",
       "  <tbody>\n",
       "    <tr>\n",
       "      <th>0</th>\n",
       "      <td>1</td>\n",
       "      <td>E. Parish</td>\n",
       "      <td>26</td>\n",
       "      <td>G</td>\n",
       "      <td>990</td>\n",
       "      <td>11</td>\n",
       "      <td>11</td>\n",
       "      <td>0</td>\n",
       "      <td>0</td>\n",
       "      <td>10</td>\n",
       "      <td>0</td>\n",
       "      <td>0</td>\n",
       "      <td>2</td>\n",
       "      <td>0</td>\n",
       "      <td>0</td>\n",
       "      <td>ACCRINGTON STANLEY FC</td>\n",
       "      <td>LEAGUE TWO</td>\n",
       "      <td>ENGLAND</td>\n",
       "    </tr>\n",
       "    <tr>\n",
       "      <th>1</th>\n",
       "      <td>13</td>\n",
       "      <td>J. Little</td>\n",
       "      <td>18</td>\n",
       "      <td>G</td>\n",
       "      <td>0</td>\n",
       "      <td>0</td>\n",
       "      <td>0</td>\n",
       "      <td>0</td>\n",
       "      <td>0</td>\n",
       "      <td>5</td>\n",
       "      <td>0</td>\n",
       "      <td>0</td>\n",
       "      <td>0</td>\n",
       "      <td>0</td>\n",
       "      <td>0</td>\n",
       "      <td>ACCRINGTON STANLEY FC</td>\n",
       "      <td>LEAGUE TWO</td>\n",
       "      <td>ENGLAND</td>\n",
       "    </tr>\n",
       "    <tr>\n",
       "      <th>2</th>\n",
       "      <td>20</td>\n",
       "      <td>A. Chapman</td>\n",
       "      <td>26</td>\n",
       "      <td>G</td>\n",
       "      <td>1350</td>\n",
       "      <td>15</td>\n",
       "      <td>15</td>\n",
       "      <td>0</td>\n",
       "      <td>0</td>\n",
       "      <td>30</td>\n",
       "      <td>0</td>\n",
       "      <td>0</td>\n",
       "      <td>0</td>\n",
       "      <td>0</td>\n",
       "      <td>0</td>\n",
       "      <td>ACCRINGTON STANLEY FC</td>\n",
       "      <td>LEAGUE TWO</td>\n",
       "      <td>ENGLAND</td>\n",
       "    </tr>\n",
       "    <tr>\n",
       "      <th>3</th>\n",
       "      <td>2</td>\n",
       "      <td>M. Pearson</td>\n",
       "      <td>23</td>\n",
       "      <td>D</td>\n",
       "      <td>3792</td>\n",
       "      <td>43</td>\n",
       "      <td>43</td>\n",
       "      <td>0</td>\n",
       "      <td>0</td>\n",
       "      <td>0</td>\n",
       "      <td>8</td>\n",
       "      <td>1</td>\n",
       "      <td>9</td>\n",
       "      <td>0</td>\n",
       "      <td>1</td>\n",
       "      <td>ACCRINGTON STANLEY FC</td>\n",
       "      <td>LEAGUE TWO</td>\n",
       "      <td>ENGLAND</td>\n",
       "    </tr>\n",
       "    <tr>\n",
       "      <th>4</th>\n",
       "      <td>3</td>\n",
       "      <td>M. Hughes</td>\n",
       "      <td>30</td>\n",
       "      <td>D</td>\n",
       "      <td>3129</td>\n",
       "      <td>36</td>\n",
       "      <td>36</td>\n",
       "      <td>0</td>\n",
       "      <td>2</td>\n",
       "      <td>9</td>\n",
       "      <td>2</td>\n",
       "      <td>0</td>\n",
       "      <td>5</td>\n",
       "      <td>0</td>\n",
       "      <td>2</td>\n",
       "      <td>ACCRINGTON STANLEY FC</td>\n",
       "      <td>LEAGUE TWO</td>\n",
       "      <td>ENGLAND</td>\n",
       "    </tr>\n",
       "  </tbody>\n",
       "</table>\n",
       "</div>"
      ],
      "text/plain": [
       "  Number      Player  Age Position  Mins played  Appearances  Line Ups  \\\n",
       "0      1   E. Parish   26        G          990           11        11   \n",
       "1     13   J. Little   18        G            0            0         0   \n",
       "2     20  A. Chapman   26        G         1350           15        15   \n",
       "3      2  M. Pearson   23        D         3792           43        43   \n",
       "4      3   M. Hughes   30        D         3129           36        36   \n",
       "\n",
       "   Sub In  Sub Out  Sub On Bench  Goals  Asists  Yellow  Yellow 2nd  Red  \\\n",
       "0       0        0            10      0       0       2           0    0   \n",
       "1       0        0             5      0       0       0           0    0   \n",
       "2       0        0            30      0       0       0           0    0   \n",
       "3       0        0             0      8       1       9           0    1   \n",
       "4       0        2             9      2       0       5           0    2   \n",
       "\n",
       "                    Club      League  Country  \n",
       "0  ACCRINGTON STANLEY FC  LEAGUE TWO  ENGLAND  \n",
       "1  ACCRINGTON STANLEY FC  LEAGUE TWO  ENGLAND  \n",
       "2  ACCRINGTON STANLEY FC  LEAGUE TWO  ENGLAND  \n",
       "3  ACCRINGTON STANLEY FC  LEAGUE TWO  ENGLAND  \n",
       "4  ACCRINGTON STANLEY FC  LEAGUE TWO  ENGLAND  "
      ]
     },
     "execution_count": 78,
     "metadata": {},
     "output_type": "execute_result"
    }
   ],
   "source": [
    "data.head()"
   ]
  },
  {
   "cell_type": "markdown",
   "metadata": {},
   "source": [
    "# Tests"
   ]
  },
  {
   "cell_type": "code",
   "execution_count": 39,
   "metadata": {
    "scrolled": false
   },
   "outputs": [
    {
     "data": {
      "text/plain": [
       "[('england', 'accrington-stanley-fc'),\n",
       " ('england', 'barnet-fc'),\n",
       " ('england', 'blackpool-fc'),\n",
       " ('england', 'cambridge-united-fc'),\n",
       " ('england', 'carlisle-united-fc'),\n",
       " ('england', 'cheltenham-town-fc'),\n",
       " ('england', 'colchester-united-fc'),\n",
       " ('england', 'crawley-town-football-club'),\n",
       " ('england', 'crewe-alexandra-fc'),\n",
       " ('england', 'doncaster-rovers-fc'),\n",
       " ('england', 'exeter-city-fc'),\n",
       " ('england', 'grimsby-town-fc'),\n",
       " ('england', 'hartlepool-united-fc'),\n",
       " ('england', 'leyton-orient-fc'),\n",
       " ('england', 'luton-town-fc'),\n",
       " ('england', 'mansfield-town-fc'),\n",
       " ('england', 'morecambe-fc'),\n",
       " ('wales', 'newport-county-afc'),\n",
       " ('england', 'notts-county-fc'),\n",
       " ('england', 'plymouth-argyle-fc'),\n",
       " ('england', 'portsmouth-football-club'),\n",
       " ('england', 'stevenage-borough-fc'),\n",
       " ('england', 'wycombe-wanderers-fc'),\n",
       " ('england', 'yeovil-town-fc')]"
      ]
     },
     "execution_count": 39,
     "metadata": {},
     "output_type": "execute_result"
    }
   ],
   "source": [
    "df_league_two = createList('http://int.soccerway.com/teams/england/plymouth-argyle-fc/701/')\n",
    "df_league_two"
   ]
  }
 ],
 "metadata": {
  "kernelspec": {
   "display_name": "Python 3",
   "language": "python",
   "name": "python3"
  },
  "language_info": {
   "codemirror_mode": {
    "name": "ipython",
    "version": 3
   },
   "file_extension": ".py",
   "mimetype": "text/x-python",
   "name": "python",
   "nbconvert_exporter": "python",
   "pygments_lexer": "ipython3",
   "version": "3.6.0"
  }
 },
 "nbformat": 4,
 "nbformat_minor": 2
}
