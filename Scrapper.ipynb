{
 "cells": [
  {
   "cell_type": "code",
   "execution_count": 3,
   "metadata": {
    "collapsed": true
   },
   "outputs": [],
   "source": [
    "from lxml import html\n",
    "import requests\n",
    "from bs4 import BeautifulSoup\n",
    "import re\n",
    "import pandas as pd \n",
    "import numpy as np\n",
    "%matplotlib inline\n",
    "pd.options.mode.chained_assignment = None  # default='warn'"
   ]
  },
  {
   "cell_type": "code",
   "execution_count": 4,
   "metadata": {
    "collapsed": true
   },
   "outputs": [],
   "source": [
    "columns = ['Number', 'Player', 'Age', 'Position', 'Mins played', 'Appearances', 'Line Ups', 'Sub In', 'Sub Out', 'Sub On Bench', 'Goals', 'Asists', 'Yellow', 'Yellow 2nd', 'Red', 'Club', 'League', 'Country']"
   ]
  },
  {
   "cell_type": "code",
   "execution_count": 5,
   "metadata": {
    "collapsed": true
   },
   "outputs": [],
   "source": [
    "def createList(url):\n",
    "    page = requests.get(url) #,proxies=proxyDict)\n",
    "    s = re.search('submenu_dropdown(.*)yui-main', str(page.content)).group(1)\n",
    "    soup = BeautifulSoup(s, 'html.parser')\n",
    "    period_tags = soup.find_all(re.compile(\"(option)\")) #, class_=re.compile(\"(number|position|name|shirtnumber)\"))\n",
    "    country = [str(i).split('/')[2] for i in period_tags]\n",
    "    team = [str(i).split('/')[3] for i in period_tags]\n",
    "   \n",
    "    return  [i for i in zip(country, team)]"
   ]
  },
  {
   "cell_type": "code",
   "execution_count": 6,
   "metadata": {
    "collapsed": true,
    "scrolled": true
   },
   "outputs": [],
   "source": [
    "def compute(country, league, team):\n",
    "    page = requests.get('http://int.soccerway.com/teams/'+country+'/'+team+'/squad/') #,proxies=proxyDict)\n",
    "    s = re.search('table squad sortable(.*)Coach', str(page.content)).group(1)\n",
    "    soup = BeautifulSoup(s, 'html.parser')\n",
    "    period_tags = soup.find_all(re.compile(\"(td)\"), class_=re.compile(\"(number|position|name|shirtnumber)\"))\n",
    "    list = [i.get_text() for i in period_tags] # if 'coach' not in str(i)]\n",
    "    #del list[-1:]\n",
    "    A = np.array(list)\n",
    "    B = pd.DataFrame(np.reshape(A, (int(A.size/15), 15)))\n",
    "    B['15'] = team.replace('-', ' ').upper()\n",
    "    B['16'] = league.replace('-', ' ').upper()\n",
    "    B['17'] = country.replace('-', ' ').upper()\n",
    "    return B"
   ]
  },
  {
   "cell_type": "code",
   "execution_count": 7,
   "metadata": {
    "collapsed": true,
    "scrolled": true
   },
   "outputs": [],
   "source": [
    "def concat(clubs, league):\n",
    "    df = compute(clubs[0][0], league, clubs[0][1])\n",
    "    for team in range(1,len(clubs)):\n",
    "        df = pd.concat([df, compute(clubs[team][0], league, clubs[team][1])])\n",
    "    return df"
   ]
  },
  {
   "cell_type": "code",
   "execution_count": 8,
   "metadata": {
    "collapsed": true
   },
   "outputs": [],
   "source": [
    "def type_changer(df):\n",
    "    columns = [2, 4, 5, 6, 7, 8, 9, 10, 11, 12, 13, 14]\n",
    "    for num in columns:\n",
    "        if '' in df[num].unique():\n",
    "            df = df[df[num] != '']\n",
    "        df[num] = df[num].astype(int)\n",
    "    return df"
   ]
  },
  {
   "cell_type": "code",
   "execution_count": 9,
   "metadata": {
    "collapsed": true
   },
   "outputs": [],
   "source": [
    "def column_changer(df):\n",
    "    df.columns = columns\n",
    "    return df"
   ]
  },
  {
   "cell_type": "code",
   "execution_count": 32,
   "metadata": {
    "collapsed": true
   },
   "outputs": [],
   "source": [
    "leagues = [('southampton-fc', 'PREMIER LEAGUE'),\n",
    "           ('leeds-united-afc', 'CHAMPIONSHIP')]"
   ]
  },
  {
   "cell_type": "code",
   "execution_count": 33,
   "metadata": {},
   "outputs": [],
   "source": [
    "def create_df(leagues):\n",
    "    df = column_changer(type_changer(concat(createList('http://int.soccerway.com/teams/england/'+leagues[0][0]+'/squad/'), leagues[0][1])))\n",
    "    for i in range(1,len(leagues)):\n",
    "        df = pd.concat([df,column_changer(type_changer(concat(createList('http://int.soccerway.com/teams/england/'+leagues[i][0]+'/squad/'), leagues[i][1])))])\n",
    "    return df"
   ]
  },
  {
   "cell_type": "code",
   "execution_count": 34,
   "metadata": {
    "collapsed": true
   },
   "outputs": [],
   "source": [
    "dff = create_df(leagues)"
   ]
  },
  {
   "cell_type": "code",
   "execution_count": 36,
   "metadata": {},
   "outputs": [
    {
     "data": {
      "text/html": [
       "<div>\n",
       "<table border=\"1\" class=\"dataframe\">\n",
       "  <thead>\n",
       "    <tr style=\"text-align: right;\">\n",
       "      <th></th>\n",
       "      <th>Number</th>\n",
       "      <th>Player</th>\n",
       "      <th>Age</th>\n",
       "      <th>Position</th>\n",
       "      <th>Mins played</th>\n",
       "      <th>Appearances</th>\n",
       "      <th>Line Ups</th>\n",
       "      <th>Sub In</th>\n",
       "      <th>Sub Out</th>\n",
       "      <th>Sub On Bench</th>\n",
       "      <th>Goals</th>\n",
       "      <th>Asists</th>\n",
       "      <th>Yellow</th>\n",
       "      <th>Yellow 2nd</th>\n",
       "      <th>Red</th>\n",
       "      <th>Club</th>\n",
       "      <th>League</th>\n",
       "      <th>Country</th>\n",
       "    </tr>\n",
       "  </thead>\n",
       "  <tbody>\n",
       "    <tr>\n",
       "      <th>0</th>\n",
       "      <td>1</td>\n",
       "      <td>A. Boruc</td>\n",
       "      <td>37</td>\n",
       "      <td>G</td>\n",
       "      <td>3060</td>\n",
       "      <td>34</td>\n",
       "      <td>34</td>\n",
       "      <td>0</td>\n",
       "      <td>0</td>\n",
       "      <td>0</td>\n",
       "      <td>0</td>\n",
       "      <td>0</td>\n",
       "      <td>2</td>\n",
       "      <td>0</td>\n",
       "      <td>0</td>\n",
       "      <td>AFC BOURNEMOUTH</td>\n",
       "      <td>PREMIER LEAGUE</td>\n",
       "      <td>ENGLAND</td>\n",
       "    </tr>\n",
       "    <tr>\n",
       "      <th>1</th>\n",
       "      <td>21</td>\n",
       "      <td>R. Allsop</td>\n",
       "      <td>24</td>\n",
       "      <td>G</td>\n",
       "      <td>0</td>\n",
       "      <td>0</td>\n",
       "      <td>0</td>\n",
       "      <td>0</td>\n",
       "      <td>0</td>\n",
       "      <td>16</td>\n",
       "      <td>0</td>\n",
       "      <td>0</td>\n",
       "      <td>0</td>\n",
       "      <td>0</td>\n",
       "      <td>0</td>\n",
       "      <td>AFC BOURNEMOUTH</td>\n",
       "      <td>PREMIER LEAGUE</td>\n",
       "      <td>ENGLAND</td>\n",
       "    </tr>\n",
       "    <tr>\n",
       "      <th>2</th>\n",
       "      <td>23</td>\n",
       "      <td>A. Federici</td>\n",
       "      <td>32</td>\n",
       "      <td>G</td>\n",
       "      <td>180</td>\n",
       "      <td>2</td>\n",
       "      <td>2</td>\n",
       "      <td>0</td>\n",
       "      <td>0</td>\n",
       "      <td>20</td>\n",
       "      <td>0</td>\n",
       "      <td>0</td>\n",
       "      <td>1</td>\n",
       "      <td>0</td>\n",
       "      <td>0</td>\n",
       "      <td>AFC BOURNEMOUTH</td>\n",
       "      <td>PREMIER LEAGUE</td>\n",
       "      <td>ENGLAND</td>\n",
       "    </tr>\n",
       "    <tr>\n",
       "      <th>3</th>\n",
       "      <td></td>\n",
       "      <td>A. Ramsdale</td>\n",
       "      <td>18</td>\n",
       "      <td>G</td>\n",
       "      <td>0</td>\n",
       "      <td>0</td>\n",
       "      <td>0</td>\n",
       "      <td>0</td>\n",
       "      <td>0</td>\n",
       "      <td>0</td>\n",
       "      <td>0</td>\n",
       "      <td>0</td>\n",
       "      <td>0</td>\n",
       "      <td>0</td>\n",
       "      <td>0</td>\n",
       "      <td>AFC BOURNEMOUTH</td>\n",
       "      <td>PREMIER LEAGUE</td>\n",
       "      <td>ENGLAND</td>\n",
       "    </tr>\n",
       "    <tr>\n",
       "      <th>4</th>\n",
       "      <td>2</td>\n",
       "      <td>S. Francis</td>\n",
       "      <td>32</td>\n",
       "      <td>D</td>\n",
       "      <td>2761</td>\n",
       "      <td>32</td>\n",
       "      <td>32</td>\n",
       "      <td>0</td>\n",
       "      <td>2</td>\n",
       "      <td>0</td>\n",
       "      <td>0</td>\n",
       "      <td>1</td>\n",
       "      <td>3</td>\n",
       "      <td>0</td>\n",
       "      <td>1</td>\n",
       "      <td>AFC BOURNEMOUTH</td>\n",
       "      <td>PREMIER LEAGUE</td>\n",
       "      <td>ENGLAND</td>\n",
       "    </tr>\n",
       "  </tbody>\n",
       "</table>\n",
       "</div>"
      ],
      "text/plain": [
       "  Number       Player  Age Position  Mins played  Appearances  Line Ups  \\\n",
       "0      1     A. Boruc   37        G         3060           34        34   \n",
       "1     21    R. Allsop   24        G            0            0         0   \n",
       "2     23  A. Federici   32        G          180            2         2   \n",
       "3         A. Ramsdale   18        G            0            0         0   \n",
       "4      2   S. Francis   32        D         2761           32        32   \n",
       "\n",
       "   Sub In  Sub Out  Sub On Bench  Goals  Asists  Yellow  Yellow 2nd  Red  \\\n",
       "0       0        0             0      0       0       2           0    0   \n",
       "1       0        0            16      0       0       0           0    0   \n",
       "2       0        0            20      0       0       1           0    0   \n",
       "3       0        0             0      0       0       0           0    0   \n",
       "4       0        2             0      0       1       3           0    1   \n",
       "\n",
       "              Club          League  Country  \n",
       "0  AFC BOURNEMOUTH  PREMIER LEAGUE  ENGLAND  \n",
       "1  AFC BOURNEMOUTH  PREMIER LEAGUE  ENGLAND  \n",
       "2  AFC BOURNEMOUTH  PREMIER LEAGUE  ENGLAND  \n",
       "3  AFC BOURNEMOUTH  PREMIER LEAGUE  ENGLAND  \n",
       "4  AFC BOURNEMOUTH  PREMIER LEAGUE  ENGLAND  "
      ]
     },
     "execution_count": 36,
     "metadata": {},
     "output_type": "execute_result"
    }
   ],
   "source": [
    "dff.head()"
   ]
  },
  {
   "cell_type": "markdown",
   "metadata": {},
   "source": [
    "# England"
   ]
  },
  {
   "cell_type": "markdown",
   "metadata": {},
   "source": [
    "#### Premier League"
   ]
  },
  {
   "cell_type": "code",
   "execution_count": 25,
   "metadata": {},
   "outputs": [],
   "source": [
    "df_premier_league = createList('http://int.soccerway.com/teams/england/chelsea-football-club/661/squad/')"
   ]
  },
  {
   "cell_type": "code",
   "execution_count": 27,
   "metadata": {},
   "outputs": [
    {
     "data": {
      "text/plain": [
       "[('england', 'afc-bournemouth'),\n",
       " ('england', 'arsenal-fc'),\n",
       " ('england', 'burnley-fc'),\n",
       " ('england', 'chelsea-football-club'),\n",
       " ('england', 'crystal-palace-fc'),\n",
       " ('england', 'everton-football-club'),\n",
       " ('england', 'hull-city-afc'),\n",
       " ('england', 'leicester-city-fc'),\n",
       " ('england', 'liverpool-fc'),\n",
       " ('england', 'manchester-city-football-club'),\n",
       " ('england', 'manchester-united-fc'),\n",
       " ('england', 'middlesbrough-football-club'),\n",
       " ('england', 'southampton-fc'),\n",
       " ('england', 'stoke-city-fc'),\n",
       " ('england', 'sunderland-association-football-club'),\n",
       " ('wales', 'swansea-city-afc'),\n",
       " ('england', 'tottenham-hotspur-football-club'),\n",
       " ('england', 'watford-football-club'),\n",
       " ('england', 'west-bromwich-albion-football-club'),\n",
       " ('england', 'west-ham-united-fc')]"
      ]
     },
     "execution_count": 27,
     "metadata": {},
     "output_type": "execute_result"
    }
   ],
   "source": [
    "df_premier_league"
   ]
  },
  {
   "cell_type": "markdown",
   "metadata": {},
   "source": [
    "#### Championship"
   ]
  },
  {
   "cell_type": "code",
   "execution_count": 29,
   "metadata": {
    "collapsed": true
   },
   "outputs": [],
   "source": [
    "df_championship = createList('http://int.soccerway.com/teams/england/brighton--hove-albion-fc/703/squad/')"
   ]
  },
  {
   "cell_type": "code",
   "execution_count": 30,
   "metadata": {},
   "outputs": [
    {
     "data": {
      "text/plain": [
       "[('england', 'aston-villa-football-club'),\n",
       " ('england', 'barnsley-fc'),\n",
       " ('england', 'birmingham-city-fc'),\n",
       " ('england', 'blackburn-rovers-football-club'),\n",
       " ('england', 'brentford-fc'),\n",
       " ('england', 'brighton--hove-albion-fc'),\n",
       " ('england', 'bristol-city-fc'),\n",
       " ('england', 'burton-albion-fc'),\n",
       " ('wales', 'cardiff-city-fc'),\n",
       " ('england', 'derby-county-fc'),\n",
       " ('england', 'fulham-football-club'),\n",
       " ('england', 'huddersfield-town-fc'),\n",
       " ('england', 'ipswich-town-fc'),\n",
       " ('england', 'leeds-united-afc'),\n",
       " ('england', 'newcastle-united-football-club'),\n",
       " ('england', 'norwich-city-fc'),\n",
       " ('england', 'nottingham-forest-fc'),\n",
       " ('england', 'preston-north-end-fc'),\n",
       " ('england', 'queens-park-rangers-fc'),\n",
       " ('england', 'reading-fc'),\n",
       " ('england', 'rotherham-united-fc'),\n",
       " ('england', 'sheffield-wednesday-fc'),\n",
       " ('england', 'wigan-athletic-football-club'),\n",
       " ('england', 'wolverhampton-wanderers-fc')]"
      ]
     },
     "execution_count": 30,
     "metadata": {},
     "output_type": "execute_result"
    }
   ],
   "source": [
    "df_championship"
   ]
  },
  {
   "cell_type": "markdown",
   "metadata": {},
   "source": [
    "#### League One"
   ]
  },
  {
   "cell_type": "code",
   "execution_count": 38,
   "metadata": {},
   "outputs": [
    {
     "data": {
      "text/plain": [
       "[('england', 'afc-wimbledon'),\n",
       " ('england', 'bolton-wanderers-football-club'),\n",
       " ('england', 'bradford-city-afc'),\n",
       " ('england', 'bristol-rovers-fc'),\n",
       " ('england', 'bury-fc'),\n",
       " ('england', 'charlton-athletic-football-club'),\n",
       " ('england', 'chesterfield-fc'),\n",
       " ('england', 'coventry-city-fc'),\n",
       " ('england', 'fleetwood-town-fc'),\n",
       " ('england', 'gillingham-fc'),\n",
       " ('england', 'millwall-fc'),\n",
       " ('england', 'milton-keynes-dons-fc'),\n",
       " ('england', 'northampton-town-fc'),\n",
       " ('england', 'oldham-athletic-afc'),\n",
       " ('england', 'oxford-united-fc'),\n",
       " ('england', 'peterborough-united-fc'),\n",
       " ('england', 'port-vale-fc'),\n",
       " ('england', 'rochdale-afc'),\n",
       " ('england', 'scunthorpe-united-fc'),\n",
       " ('england', 'sheffield-united-fc'),\n",
       " ('england', 'shrewsbury-town-fc'),\n",
       " ('england', 'southend-united-fc'),\n",
       " ('england', 'swindon-town-fc'),\n",
       " ('england', 'walsall-fc')]"
      ]
     },
     "execution_count": 38,
     "metadata": {},
     "output_type": "execute_result"
    }
   ],
   "source": [
    "df_league_one = createList('http://int.soccerway.com/teams/england/afc-wimbledon/4593/squad/')\n",
    "df_league_one"
   ]
  },
  {
   "cell_type": "markdown",
   "metadata": {},
   "source": [
    "#### League Two"
   ]
  },
  {
   "cell_type": "code",
   "execution_count": 39,
   "metadata": {},
   "outputs": [
    {
     "data": {
      "text/plain": [
       "[('england', 'accrington-stanley-fc'),\n",
       " ('england', 'barnet-fc'),\n",
       " ('england', 'blackpool-fc'),\n",
       " ('england', 'cambridge-united-fc'),\n",
       " ('england', 'carlisle-united-fc'),\n",
       " ('england', 'cheltenham-town-fc'),\n",
       " ('england', 'colchester-united-fc'),\n",
       " ('england', 'crawley-town-football-club'),\n",
       " ('england', 'crewe-alexandra-fc'),\n",
       " ('england', 'doncaster-rovers-fc'),\n",
       " ('england', 'exeter-city-fc'),\n",
       " ('england', 'grimsby-town-fc'),\n",
       " ('england', 'hartlepool-united-fc'),\n",
       " ('england', 'leyton-orient-fc'),\n",
       " ('england', 'luton-town-fc'),\n",
       " ('england', 'mansfield-town-fc'),\n",
       " ('england', 'morecambe-fc'),\n",
       " ('wales', 'newport-county-afc'),\n",
       " ('england', 'notts-county-fc'),\n",
       " ('england', 'plymouth-argyle-fc'),\n",
       " ('england', 'portsmouth-football-club'),\n",
       " ('england', 'stevenage-borough-fc'),\n",
       " ('england', 'wycombe-wanderers-fc'),\n",
       " ('england', 'yeovil-town-fc')]"
      ]
     },
     "execution_count": 39,
     "metadata": {},
     "output_type": "execute_result"
    }
   ],
   "source": [
    "df_league_two = createList('http://int.soccerway.com/teams/england/plymouth-argyle-fc/701/')\n",
    "df_league_two"
   ]
  },
  {
   "cell_type": "code",
   "execution_count": 14,
   "metadata": {
    "collapsed": true
   },
   "outputs": [],
   "source": [
    "df_england = pd.concat([df_premier_league,df_championship,df_league_one,df_league_two])"
   ]
  },
  {
   "cell_type": "code",
   "execution_count": 15,
   "metadata": {},
   "outputs": [
    {
     "data": {
      "text/plain": [
       "92"
      ]
     },
     "execution_count": 15,
     "metadata": {},
     "output_type": "execute_result"
    }
   ],
   "source": [
    "len(df_england['Club'].unique())"
   ]
  },
  {
   "cell_type": "markdown",
   "metadata": {},
   "source": [
    "# Germany"
   ]
  },
  {
   "cell_type": "markdown",
   "metadata": {},
   "source": [
    "#### Bundesliga"
   ]
  },
  {
   "cell_type": "code",
   "execution_count": null,
   "metadata": {
    "collapsed": true
   },
   "outputs": [],
   "source": []
  },
  {
   "cell_type": "markdown",
   "metadata": {},
   "source": [
    "#### Bundesliga 2"
   ]
  },
  {
   "cell_type": "code",
   "execution_count": null,
   "metadata": {
    "collapsed": true
   },
   "outputs": [],
   "source": []
  },
  {
   "cell_type": "markdown",
   "metadata": {},
   "source": [
    "# Merge and Export"
   ]
  },
  {
   "cell_type": "code",
   "execution_count": 16,
   "metadata": {
    "collapsed": true
   },
   "outputs": [],
   "source": [
    "#pd.concat([df_premier_league,df_bundesliga]).to_csv('premier_league.csv')"
   ]
  }
 ],
 "metadata": {
  "kernelspec": {
   "display_name": "Python 3",
   "language": "python",
   "name": "python3"
  },
  "language_info": {
   "codemirror_mode": {
    "name": "ipython",
    "version": 3
   },
   "file_extension": ".py",
   "mimetype": "text/x-python",
   "name": "python",
   "nbconvert_exporter": "python",
   "pygments_lexer": "ipython3",
   "version": "3.6.0"
  }
 },
 "nbformat": 4,
 "nbformat_minor": 2
}
