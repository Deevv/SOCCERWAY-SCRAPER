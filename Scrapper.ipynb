{
 "cells": [
  {
   "cell_type": "code",
   "execution_count": 22,
   "metadata": {
    "collapsed": true
   },
   "outputs": [],
   "source": [
    "from lxml import html\n",
    "import requests\n",
    "from bs4 import BeautifulSoup\n",
    "import re\n",
    "import pandas as pd \n",
    "import numpy as np\n",
    "import pylab as plt\n",
    "%matplotlib inline\n",
    "pd.options.mode.chained_assignment = None  # default='warn'"
   ]
  },
  {
   "cell_type": "code",
   "execution_count": 3,
   "metadata": {
    "collapsed": true
   },
   "outputs": [],
   "source": [
    "df_lacks = pd.DataFrame()"
   ]
  },
  {
   "cell_type": "code",
   "execution_count": 4,
   "metadata": {
    "collapsed": true
   },
   "outputs": [],
   "source": [
    "columns = ['Number', 'Player', 'Age', 'Position', 'Mins played', 'Appearances', 'Line Ups', 'Sub In', 'Sub Out', 'Sub On Bench', 'Goals', 'Asists', 'Yellow', 'Yellow 2nd', 'Red', 'Club', 'League', 'Country']"
   ]
  },
  {
   "cell_type": "code",
   "execution_count": 5,
   "metadata": {
    "collapsed": true
   },
   "outputs": [],
   "source": [
    "def createList(url):\n",
    "    page = requests.get(url) #,proxies=proxyDict)\n",
    "    s = re.search('submenu_dropdown(.*)yui-main', str(page.content)).group(1)\n",
    "    soup = BeautifulSoup(s, 'html.parser')\n",
    "    period_tags = soup.find_all(re.compile(\"(option)\")) #, class_=re.compile(\"(number|position|name|shirtnumber)\"))\n",
    "    country = [str(i).split('/')[2] for i in period_tags]\n",
    "    team = [str(i).split('/')[3] for i in period_tags]\n",
    "   \n",
    "    return  [i for i in zip(country, team)]"
   ]
  },
  {
   "cell_type": "code",
   "execution_count": 6,
   "metadata": {
    "collapsed": true,
    "scrolled": true
   },
   "outputs": [],
   "source": [
    "def compute(country, league, team):\n",
    "    page = requests.get('http://int.soccerway.com/teams/'+country+'/'+team+'/squad/') #,proxies=proxyDict)\n",
    "    s = re.search('table squad sortable(.*)Coach', str(page.content)).group(1)\n",
    "    soup = BeautifulSoup(s, 'html.parser')\n",
    "    period_tags = soup.find_all(re.compile(\"(td)\"), class_=re.compile(\"(number|position|name|shirtnumber)\"))\n",
    "    list = [i.get_text() for i in period_tags] # if 'coach' not in str(i)]\n",
    "    #del list[-1:]\n",
    "    A = np.array(list)\n",
    "    B = pd.DataFrame(np.reshape(A, (int(A.size/15), 15)))\n",
    "    B['15'] = team.replace('-', ' ').upper()\n",
    "    B['16'] = league.replace('-', ' ').upper()\n",
    "    B['17'] = country.replace('-', ' ').upper()\n",
    "    return B"
   ]
  },
  {
   "cell_type": "code",
   "execution_count": 7,
   "metadata": {
    "collapsed": true,
    "scrolled": true
   },
   "outputs": [],
   "source": [
    "def concat(clubs, league):\n",
    "    df = compute(clubs[0][0], league, clubs[0][1])\n",
    "    for team in range(1,len(clubs)):\n",
    "        df = pd.concat([df, compute(clubs[team][0], league, clubs[team][1])])\n",
    "    return df"
   ]
  },
  {
   "cell_type": "code",
   "execution_count": 25,
   "metadata": {
    "collapsed": true
   },
   "outputs": [],
   "source": [
    "def type_changer(df):\n",
    "    columns = [2, 4, 5, 6, 7, 8, 9, 10, 11, 12, 13, 14]\n",
    "    for num in columns:\n",
    "        if '' in df[num].unique():\n",
    "            df = df[df[num] != '']\n",
    "        df[num] = df[num].astype(int)\n",
    "    return df"
   ]
  },
  {
   "cell_type": "code",
   "execution_count": 9,
   "metadata": {
    "collapsed": true
   },
   "outputs": [],
   "source": [
    "def column_changer(df):\n",
    "    df.columns = columns\n",
    "    return df"
   ]
  },
  {
   "cell_type": "markdown",
   "metadata": {},
   "source": [
    "# England"
   ]
  },
  {
   "cell_type": "markdown",
   "metadata": {},
   "source": [
    "#### Premier League"
   ]
  },
  {
   "cell_type": "code",
   "execution_count": 26,
   "metadata": {
    "collapsed": true
   },
   "outputs": [],
   "source": [
    "df_premier_league = column_changer(type_changer(concat(\\\n",
    "                    createList('http://int.soccerway.com/teams/england/chelsea-football-club/661/squad/'), 'PREMIER LEAGUE')))"
   ]
  },
  {
   "cell_type": "markdown",
   "metadata": {},
   "source": [
    "#### Championship"
   ]
  },
  {
   "cell_type": "code",
   "execution_count": 11,
   "metadata": {
    "collapsed": true
   },
   "outputs": [],
   "source": [
    "df_championship = column_changer(type_changer(concat(\\\n",
    "                  createList('http://int.soccerway.com/teams/england/brighton--hove-albion-fc/703/squad/'), 'CHAMPIONSHIP')))"
   ]
  },
  {
   "cell_type": "markdown",
   "metadata": {},
   "source": [
    "#### League One"
   ]
  },
  {
   "cell_type": "code",
   "execution_count": 12,
   "metadata": {
    "collapsed": true
   },
   "outputs": [],
   "source": [
    "df_league_one = column_changer(type_changer(concat(\\\n",
    "                createList('http://int.soccerway.com/teams/england/afc-wimbledon/4593/squad/'), 'LEAGUE ONE')))"
   ]
  },
  {
   "cell_type": "markdown",
   "metadata": {},
   "source": [
    "#### League Two"
   ]
  },
  {
   "cell_type": "code",
   "execution_count": 13,
   "metadata": {
    "collapsed": true
   },
   "outputs": [],
   "source": [
    "df_league_two = column_changer(type_changer(\\\n",
    "                concat(createList('http://int.soccerway.com/teams/england/plymouth-argyle-fc/701/'), 'LEAGUE TWO')))"
   ]
  },
  {
   "cell_type": "code",
   "execution_count": 14,
   "metadata": {
    "collapsed": true
   },
   "outputs": [],
   "source": [
    "df_england = pd.concat([df_premier_league,df_championship,df_league_one,df_league_two])"
   ]
  },
  {
   "cell_type": "code",
   "execution_count": 15,
   "metadata": {},
   "outputs": [
    {
     "data": {
      "text/plain": [
       "92"
      ]
     },
     "execution_count": 15,
     "metadata": {},
     "output_type": "execute_result"
    }
   ],
   "source": [
    "len(df_england['Club'].unique())"
   ]
  },
  {
   "cell_type": "markdown",
   "metadata": {},
   "source": [
    "# Germany"
   ]
  },
  {
   "cell_type": "markdown",
   "metadata": {},
   "source": [
    "#### Bundesliga"
   ]
  },
  {
   "cell_type": "code",
   "execution_count": null,
   "metadata": {
    "collapsed": true
   },
   "outputs": [],
   "source": []
  },
  {
   "cell_type": "markdown",
   "metadata": {},
   "source": [
    "#### Bundesliga 2"
   ]
  },
  {
   "cell_type": "code",
   "execution_count": null,
   "metadata": {
    "collapsed": true
   },
   "outputs": [],
   "source": []
  },
  {
   "cell_type": "markdown",
   "metadata": {},
   "source": [
    "# Merge and Export"
   ]
  },
  {
   "cell_type": "code",
   "execution_count": 18,
   "metadata": {
    "collapsed": true
   },
   "outputs": [],
   "source": [
    "#pd.concat([df_premier_league,df_bundesliga]).to_csv('premier_league.csv')"
   ]
  }
 ],
 "metadata": {
  "kernelspec": {
   "display_name": "Python 3",
   "language": "python",
   "name": "python3"
  },
  "language_info": {
   "codemirror_mode": {
    "name": "ipython",
    "version": 3
   },
   "file_extension": ".py",
   "mimetype": "text/x-python",
   "name": "python",
   "nbconvert_exporter": "python",
   "pygments_lexer": "ipython3",
   "version": "3.6.0"
  }
 },
 "nbformat": 4,
 "nbformat_minor": 2
}
